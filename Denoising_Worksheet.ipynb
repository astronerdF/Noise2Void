{
 "cells": [
  {
   "cell_type": "markdown",
   "metadata": {},
   "source": [
    "# Image Denoising Tutorial"
   ]
  },
  {
   "cell_type": "markdown",
   "metadata": {},
   "source": [
    "## Introduction to Denoising\n",
    "\n",
    "Welcome to this tutorial on image denoising! In this notebook, we will explore what noise is, why it's a problem in imaging, and various methods to remove it. We will cover classic denoising techniques and then dive into a powerful deep learning-based method called Noise2Void."
   ]
  },
  {
   "cell_type": "markdown",
   "metadata": {},
   "source": [
    "### What is Noise?\n",
    "\n",
    "In the context of image processing, **noise** refers to random variations of brightness or color information in an image. It is an undesirable byproduct of image capture and transmission. Noise can be caused by various factors, such as low light conditions, sensor heat, or electronic interference during transmission."
   ]
  },
  {
   "cell_type": "markdown",
   "metadata": {},
   "source": [
    "### Why is Denoising Important?\n",
    "\n",
    "Denoising is a crucial step in many image processing pipelines. Removing noise can:\n",
    "\n",
    "*   Improve the visual quality of an image.\n",
    "*   Enhance the performance of subsequent image processing tasks, such as object detection, image segmentation, and feature extraction."
   ]
  },
  {
   "cell_type": "markdown",
   "metadata": {},
   "source": [
    "## Simulating Noise\n",
    "\n",
    "Before we can denoise an image, we need a noisy image to work with. In this section, we'll learn how to add different types of noise to a clean image. This is a common practice to evaluate the performance of denoising algorithms."
   ]
  },
  {
   "cell_type": "code",
   "execution_count": null,
   "metadata": {},
   "outputs": [],
   "source": [
    "import numpy as np\n",
    "import matplotlib.pyplot as plt\n",
    "from skimage import io, img_as_float\n",
    "\n",
    "# For this tutorial, we will use the famous \"cameraman\" image from scikit-image\n",
    "try:\n",
    "    from skimage.data import cameraman\n",
    "    image = cameraman()\n",
    "except ImportError:\n",
    "    # Fallback for older scikit-image versions\n",
    "    from skimage import data\n",
    "    image = data.camera()\n",
    "\n",
    "image = img_as_float(image)"
   ]
  },
  {
   "cell_type": "markdown",
   "metadata": {},
   "source": [
    "### Types of Noise"
   ]
  },
  {
   "cell_type": "markdown",
   "metadata": {},
   "source": [
    "#### 1. Gaussian Noise\n",
    "\n",
    "Gaussian noise is a statistical noise that has a probability density function equal to that of the normal distribution, which is also known as the Gaussian distribution. In other words, the noise values are drawn from a Gaussian distribution. It is a very common type of noise, especially in images taken under low-light conditions.\n",
    "\n",
    "We can control the amount of Gaussian noise by adjusting the `var` (variance) parameter. A higher variance will result in more noise."
   ]
  },
  {
   "cell_type": "code",
   "execution_count": null,
   "metadata": {},
   "outputs": [],
   "source": [
    "# YOUR CODE HERE: Add Gaussian noise to the image and display the result\n",
    "\n",
    "\n",
    "def add_gaussian_noise(image, mean=0, std=0.1):\n",
    "    \"\"\"Adds Gaussian noise using NumPy.\"\"\"\n",
    "    \n",
    "\n",
    "gaussian_noisy_image = add_gaussian_noise(image, 0,0.2)\n",
    "\n",
    "plt.figure(figsize=(10, 5))\n",
    "plt.subplot(1, 2, 1)\n",
    "plt.title(\"Original Image\")\n",
    "plt.imshow(image, cmap='gray')\n",
    "plt.axis('off')\n",
    "\n",
    "plt.subplot(1, 2, 2)\n",
    "plt.title(\"Image with Gaussian Noise\")\n",
    "plt.imshow(gaussian_noisy_image, cmap='gray')\n",
    "plt.axis('off')\n",
    "plt.show()"
   ]
  },
  {
   "cell_type": "markdown",
   "metadata": {},
   "source": [
    "#### 2. Salt & Pepper Noise\n",
    "\n",
    "Salt and pepper noise, also known as impulse noise, is a type of noise that presents itself as sparsely occurring white and black pixels. An image containing salt-and-pepper noise will have dark pixels in bright regions and bright pixels in dark regions.\n",
    "\n",
    "We can control the amount of salt and pepper noise by adjusting the `amount` parameter, which represents the proportion of pixels to be affected."
   ]
  },
  {
   "cell_type": "code",
   "execution_count": null,
   "metadata": {},
   "outputs": [],
   "source": [
    "# YOUR CODE HERE: Add Salt & Pepper noise to the image and display the result\n",
    "\n",
    "\n",
    "def add_salt_and_pepper_noise(image, amount=0.05):\n",
    "    \"\"\"Adds salt and pepper noise to a grayscale image using NumPy.\"\"\"\n",
    "    \n",
    "sp_noisy_image = add_salt_and_pepper_noise(image, amount=0.1)\n",
    "\n",
    "plt.figure(figsize=(10, 5))\n",
    "plt.subplot(1, 2, 1)\n",
    "plt.title(\"Original Image\")\n",
    "plt.imshow(image, cmap='gray')\n",
    "plt.axis('off')\n",
    "\n",
    "plt.subplot(1, 2, 2)\n",
    "plt.title(\"Image with Salt & Pepper Noise\")\n",
    "plt.imshow(sp_noisy_image, cmap='gray')\n",
    "plt.axis('off')\n",
    "plt.show()"
   ]
  },
  {
   "cell_type": "markdown",
   "metadata": {},
   "source": [
    "## Classical Denoising Methods"
   ]
  },
  {
   "cell_type": "markdown",
   "metadata": {},
   "source": [
    "Now that we know how to add noise, let's explore some classical methods for removing it."
   ]
  },
  {
   "cell_type": "markdown",
   "metadata": {},
   "source": [
    "### 1. Gaussian Filter\n",
    "\n",
    "A Gaussian filter is a linear filter that is widely used for blurring images and removing noise. It works by convolving the image with a Gaussian kernel. The standard deviation (`sigma`) of the Gaussian kernel is a parameter that controls the amount of blurring. A larger `sigma` will result in more blurring and more noise removal, but it can also lead to a loss of image details."
   ]
  },
  {
   "cell_type": "code",
   "execution_count": null,
   "metadata": {},
   "outputs": [],
   "source": [
    "\n",
    "from skimage.filters import gaussian\n",
    "\n",
    "# YOUR CODE HERE: Denoise the Gaussian noisy image using a Gaussian filter and display the result\n",
    "\n",
    "plt.figure(figsize=(15, 5))\n",
    "plt.subplot(1, 3, 1)\n",
    "plt.title(\"Original Image\")\n",
    "plt.imshow(image, cmap='gray')\n",
    "plt.axis('off')\n",
    "\n",
    "plt.subplot(1, 3, 2)\n",
    "plt.title(\"Noisy Image\")\n",
    "plt.imshow(gaussian_noisy_image, cmap='gray')\n",
    "plt.axis('off')\n",
    "\n",
    "plt.subplot(1, 3, 3)\n",
    "plt.title(\"Denoised with Gaussian Filter\")\n",
    "plt.imshow(denoised_gaussian, cmap='gray')\n",
    "plt.axis('off')\n",
    "plt.show()"
   ]
  },
  {
   "cell_type": "markdown",
   "metadata": {},
   "source": [
    "### 2. Median Filter\n",
    "\n",
    "The median filter is a non-linear digital filtering technique, often used to remove noise from an image or signal. It is particularly effective at removing salt-and-pepper noise. The median filter works by replacing each pixel's value with the median value of its neighbors."
   ]
  },
  {
   "cell_type": "code",
   "execution_count": null,
   "metadata": {},
   "outputs": [],
   "source": [
    "from skimage.filters import median\n",
    "from skimage.morphology import disk\n",
    "\n",
    "# YOUR CODE HERE: Denoise the Salt & Pepper noisy image using a median filter and display the result\n",
    "\n",
    "\n",
    "plt.figure(figsize=(15, 5))\n",
    "plt.subplot(1, 3, 1)\n",
    "plt.title(\"Original Image\")\n",
    "plt.imshow(image, cmap='gray')\n",
    "plt.axis('off')\n",
    "\n",
    "plt.subplot(1, 3, 2)\n",
    "plt.title(\"Noisy Image (S&P)\")\n",
    "plt.imshow(sp_noisy_image, cmap='gray')\n",
    "plt.axis('off')\n",
    "\n",
    "plt.subplot(1, 3, 3)\n",
    "plt.title(\"Denoised with Median Filter\")\n",
    "plt.imshow(denoised_median, cmap='gray')\n",
    "plt.axis('off')\n",
    "plt.show()"
   ]
  },
  {
   "cell_type": "markdown",
   "metadata": {},
   "source": [
    "### 3. BM3D (Block-matching and 3D filtering)\n",
    "\n",
    "BM3D is a more advanced denoising method that is considered state-of-the-art for classical denoising. It works by finding similar patches in the image, stacking them into a 3D group, filtering the group, and then returning the filtered patches to their original locations. It is particularly effective for Gaussian noise.\n",
    "\n",
    "*Note: You might need to install the `bm3d` package. You can do this by running `pip install bm3d` in your terminal.*"
   ]
  },
  {
   "cell_type": "code",
   "execution_count": null,
   "metadata": {},
   "outputs": [],
   "source": [
    "try:\n",
    "    import bm3d\n",
    "    # YOUR CODE HERE: Denoise the Gaussian noisy image using BM3D and display the result\n",
    "\n",
    "    plt.figure(figsize=(15, 5))\n",
    "    plt.subplot(1, 3, 1)\n",
    "    plt.title(\"Original Image\")\n",
    "    plt.imshow(image, cmap='gray')\n",
    "    plt.axis('off')\n",
    "    \n",
    "    plt.subplot(1, 3, 2)\n",
    "    plt.title(\"Noisy Image\")\n",
    "    plt.imshow(gaussian_noisy_image, cmap='gray')\n",
    "    plt.axis('off')\n",
    "    \n",
    "    plt.subplot(1, 3, 3)\n",
    "    plt.title(\"Denoised with BM3D\")\n",
    "    plt.imshow(denoised_bm3d, cmap='gray')\n",
    "    plt.axis('off')\n",
    "    plt.show()\n",
    "except ImportError:\n",
    "    print(\"BM3D is not installed. Please run 'pip install bm3d' to use this feature.\")"
   ]
  },
  {
   "cell_type": "markdown",
   "metadata": {},
   "source": [
    "## Denoising with Noise2Void"
   ]
  },
  {
   "cell_type": "markdown",
   "metadata": {},
   "source": [
    "Now, we will explore a powerful deep learning-based method for image denoising called **Noise2Void**. Unlike traditional methods, Noise2Void learns to denoise images directly from noisy images, without needing clean, noise-free training data."
   ]
  },
  {
   "cell_type": "markdown",
   "metadata": {},
   "source": [
    "### How Noise2Void Works (A Brief Explanation)\n",
    "\n",
    "The core idea behind Noise2Void is to train a neural network to predict a pixel's value from its neighborhood, but *without* seeing the center pixel itself. This is achieved by creating a \"blind spot\" in the receptive field of the network. This forces the network to learn the underlying structure of the image and distinguish it from the random noise. Since the noise is random, the network cannot predict it from the neighboring pixels, and thus learns to ignore it."
   ]
  },
  {
   "cell_type": "markdown",
   "metadata": {},
   "source": [
    "### Using the Noise2Void Code\n",
    "\n",
    "Now, let's use the `noise2void` code in this repository to denoise an image. We will need to:\n",
    "\n",
    "1.  **Prepare the data:** We'll create masked images for training.\n",
    "2.  **Create a Noise2Void model:** We'll use the `ResNet` model from `model.py`.\n",
    "3.  **Train the model:** We'll train the model on our noisy data.\n",
    "4.  **Predict (Denoise):** We'll use the trained model to denoise a new noisy image."
   ]
  },
  {
   "cell_type": "code",
   "execution_count": null,
   "metadata": {},
   "outputs": [],
   "source": [
    "# YOUR CODE HERE: Prepare the data for Noise2Void by creating a masked image.\n",
    "import numpy as np\n",
    "import torch \n",
    "from torchvision import transforms\n",
    "from skimage.transform import resize  # ✅ import resize properly\n",
    "from noise2void.dataset import Dataset\n",
    "\n",
    "# Normalize data to [0,1] range\n",
    "noisyNorm = (gaussian_noisy_image - gaussian_noisy_image.min()) / (gaussian_noisy_image.max() - gaussian_noisy_image.min())\n",
    "\n",
    "# Ensure dimensions are divisible by 16 (for UNet architecture)\n",
    "target_size = ((gaussian_noisy_image.shape[0] // 16) * 16, (gaussian_noisy_image.shape[1] // 16) * 16)\n",
    "gaussian_noisy_image = resize(gaussian_noisy_image, target_size)  # ✅ fix here\n",
    "\n",
    "device = torch.device('cuda' if torch.cuda.is_available() else 'cpu')\n",
    "patch_size = 64\n",
    "n_patches = 128\n",
    "batch_size = 4\n",
    "learning_rate = 0.001\n",
    "weight_decay = 0.00001\n",
    "num_epochs = 30\n",
    "\n",
    "# Initialize data transformations (for PyTorch)\n",
    "transform = transforms.Compose([\n",
    "    transforms.ToTensor(),\n",
    "    transforms.Normalize(mean=[0.5], std=[0.5])\n",
    "])\n",
    "\n",
    "# Add channel dimension and convert to float32\n",
    "gaussian_noisy_image = np.expand_dims(gaussian_noisy_image, axis=-1).astype(np.float32)\n",
    "\n",
    "# Create dataset\n",
    "dataset = Dataset(\n",
    "    data_dir=None,  # We'll use our own data\n",
    "    transform=transform,\n",
    "    sgm=25,  # Noise level estimate\n",
    "    ratio=0.9,\n",
    "    size_data=(gaussian_noisy_image.shape[0], gaussian_noisy_image.shape[1], 1),\n",
    "    size_window=(5, 5)\n",
    ")\n"
   ]
  },
  {
   "cell_type": "markdown",
   "metadata": {},
   "source": [
    "### Training the Noise2Void Model"
   ]
  },
  {
   "cell_type": "code",
   "execution_count": null,
   "metadata": {},
   "outputs": [],
   "source": [
    "# YOUR CODE HERE: Set up the model, loss, and optimizer, and train the model.\n",
    "# Initialize model\n",
    "\n",
    "from noise2void.dataset import *\n",
    "from noise2void.model import *\n",
    "\n",
    "net = UNet(nch_in=1, nch_out=1, nch_ker=64, norm='bnorm')\n",
    "net = net.to(device)\n",
    "\n",
    "# Set up optimizer\n",
    "optimizer = torch.optim.Adam(net.parameters(), lr=learning_rate, weight_decay=weight_decay)\n",
    "criterion = nn.MSELoss()\n",
    "\n",
    "# Convert data to tensor and pad if necessary\n",
    "input_tensor = torch.from_numpy(gaussian_noisy_image).permute(2, 0, 1).unsqueeze(0)\n",
    "\n",
    "# Pad input to make dimensions divisible by 16\n",
    "h, w = input_tensor.shape[2], input_tensor.shape[3]\n",
    "pad_h = (16 - h % 16) % 16\n",
    "pad_w = (16 - w % 16) % 16\n",
    "if pad_h > 0 or pad_w > 0:\n",
    "    input_tensor = F.pad(input_tensor, (0, pad_w, 0, pad_h), mode='reflect')\n",
    "\n",
    "input_tensor = input_tensor.to(device)\n",
    "\n",
    "# Training loop\n",
    "for epoch in range(num_epochs):\n",
    "    net.train()\n",
    "    optimizer.zero_grad()\n",
    "    \n",
    "    # Forward pass\n",
    "    output = net(input_tensor)\n",
    "    \n",
    "    # Calculate loss\n",
    "    loss = criterion(output, input_tensor)\n",
    "    \n",
    "    # Backward pass\n",
    "    loss.backward()\n",
    "    optimizer.step()\n",
    "    \n",
    "    if (epoch + 1) % 10 == 0:\n",
    "        print(f'Epoch [{epoch+1}/{num_epochs}], Loss: {loss.item():.4f}')"
   ]
  },
  {
   "cell_type": "markdown",
   "metadata": {},
   "source": [
    "### Denoising with the Trained Model"
   ]
  },
  {
   "cell_type": "code",
   "execution_count": null,
   "metadata": {},
   "outputs": [],
   "source": [
    "# YOUR CODE HERE: Denoise the noisy image with the trained model and display the results.\n",
    "# Set model to evaluation mode\n",
    "net.eval()\n",
    "\n",
    "with torch.no_grad():\n",
    "    # Get denoised output\n",
    "    denoised = net(input_tensor)\n",
    "    \n",
    "    # Remove padding if added\n",
    "    if pad_h > 0 or pad_w > 0:\n",
    "        denoised = denoised[:, :, :h, :w]\n",
    "    \n",
    "    # Convert back to numpy\n",
    "    denoised = denoised.cpu().numpy().squeeze()\n",
    "    \n",
    "    # Display results\n",
    "    fig, (ax1, ax2) = plt.subplots(1, 2, figsize=(15, 7))\n",
    "    \n",
    "    ax1.imshow(gaussian_noisy_image.squeeze(), cmap='gray')\n",
    "    ax1.set_title('Original Noisy Image')\n",
    "    ax1.axis('off')\n",
    "    \n",
    "    ax2.imshow(denoised, cmap='gray')\n",
    "    ax2.set_title('Denoised Image')\n",
    "    ax2.axis('off')\n",
    "    \n",
    "    plt.tight_layout()\n",
    "    plt.show()\n",
    "    \n",
    "    # Calculate and print PSNR\n",
    "    mse = np.mean((gaussian_noisy_image.squeeze() - denoised) ** 2)\n",
    "    psnr = 20 * np.log10(1.0 / np.sqrt(mse))\n",
    "    print(f'PSNR: {psnr:.2f} dB')"
   ]
  }
 ],
 "metadata": {
  "kernelspec": {
   "display_name": "Python 3",
   "language": "python",
   "name": "python3"
  },
  "language_info": {
   "codemirror_mode": {
    "name": "ipython",
    "version": 3
   },
   "file_extension": ".py",
   "mimetype": "text/x-python",
   "name": "python",
   "nbconvert_exporter": "python",
   "pygments_lexer": "ipython3",
   "version": "3.9.7"
  }
 },
 "nbformat": 4,
 "nbformat_minor": 4
}
