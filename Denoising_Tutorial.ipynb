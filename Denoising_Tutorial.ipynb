{
 "cells": [
  {
   "cell_type": "markdown",
   "metadata": {},
   "source": [
    "# Image Denoising Tutorial"
   ]
  },
  {
   "cell_type": "markdown",
   "metadata": {},
   "source": [
    "## Introduction to Denoising\n",
    "\n",
    "Welcome to this tutorial on image denoising! In this notebook, we will explore what noise is, why it's a problem in imaging, and various methods to remove it. We will cover classic denoising techniques and then dive into a powerful deep learning-based method called Noise2Void."
   ]
  },
  {
   "cell_type": "markdown",
   "metadata": {},
   "source": [
    "### What is Noise?\n",
    "\n",
    "In the context of image processing, **noise** refers to random variations of brightness or color information in an image. It is an undesirable byproduct of image capture and transmission. Noise can be caused by various factors, such as low light conditions, sensor heat, or electronic interference during transmission."
   ]
  },
  {
   "cell_type": "markdown",
   "metadata": {},
   "source": [
    "### Why is Denoising Important?\n",
    "\n",
    "Denoising is a crucial step in many image processing pipelines. Removing noise can:\n",
    "\n",
    "*   Improve the visual quality of an image.\n",
    "*   Enhance the performance of subsequent image processing tasks, such as object detection, image segmentation, and feature extraction."
   ]
  },
  {
   "cell_type": "markdown",
   "metadata": {},
   "source": [
    "## Simulating Noise\n",
    "\n",
    "Before we can denoise an image, we need a noisy image to work with. In this section, we'll learn how to add different types of noise to a clean image. This is a common practice to evaluate the performance of denoising algorithms."
   ]
  },
  {
   "cell_type": "code",
   "execution_count": null,
   "metadata": {},
   "outputs": [],
   "source": [
    "import numpy as np\n",
    "import matplotlib.pyplot as plt\n",
    "from skimage import io, img_as_float\n",
    "from skimage.util import random_noise\n",
    "\n",
    "# For this tutorial, we will use the famous \"cameraman\" image from scikit-image\n",
    "try:\n",
    "    from skimage.data import cameraman\n",
    "    image = cameraman()\n",
    "except ImportError:\n",
    "    # Fallback for older scikit-image versions\n",
    "    from skimage import data\n",
    "    image = data.camera()\n",
    "\n",
    "image = img_as_float(image)"
   ]
  },
  {
   "cell_type": "markdown",
   "metadata": {},
   "source": [
    "### Types of Noise"
   ]
  },
  {
   "cell_type": "markdown",
   "metadata": {},
   "source": [
    "#### 1. Gaussian Noise\n",
    "\n",
    "Gaussian noise is a statistical noise that has a probability density function equal to that of the normal distribution, which is also known as the Gaussian distribution. In other words, the noise values are drawn from a Gaussian distribution. It is a very common type of noise, especially in images taken under low-light conditions.\n",
    "\n",
    "We can control the amount of Gaussian noise by adjusting the `var` (variance) parameter. A higher variance will result in more noise."
   ]
  },
  {
   "cell_type": "code",
   "execution_count": null,
   "metadata": {},
   "outputs": [],
   "source": [
    "def add_gaussian_noise(image, mean=0, var=0.01):\n",
    "    \"\"\"Adds Gaussian noise to an image.\"\"\"\n",
    "    return random_noise(image, mode='gaussian', seed=None, clip=True, mean=mean, var=var)\n",
    "\n",
    "gaussian_noisy_image = add_gaussian_noise(image, var=0.05)\n",
    "\n",
    "plt.figure(figsize=(10, 5))\n",
    "plt.subplot(1, 2, 1)\n",
    "plt.title(\"Original Image\")\n",
    "plt.imshow(image, cmap='gray')\n",
    "plt.axis('off')\n",
    "\n",
    "plt.subplot(1, 2, 2)\n",
    "plt.title(\"Image with Gaussian Noise\")\n",
    "plt.imshow(gaussian_noisy_image, cmap='gray')\n",
    "plt.axis('off')\n",
    "plt.show()"
   ]
  },
  {
   "cell_type": "markdown",
   "metadata": {},
   "source": [
    "#### 2. Salt & Pepper Noise\n",
    "\n",
    "Salt and pepper noise, also known as impulse noise, is a type of noise that presents itself as sparsely occurring white and black pixels. An image containing salt-and-pepper noise will have dark pixels in bright regions and bright pixels in dark regions.\n",
    "\n",
    "We can control the amount of salt and pepper noise by adjusting the `amount` parameter, which represents the proportion of pixels to be affected."
   ]
  },
  {
   "cell_type": "code",
   "execution_count": null,
   "metadata": {},
   "outputs": [],
   "source": [
    "def add_salt_and_pepper_noise(image, amount=0.05):\n",
    "    \"\"\"Adds salt and pepper noise to an image.\"\"\"\n",
    "    return random_noise(image, mode='s&p', seed=None, clip=True, amount=amount)\n",
    "\n",
    "sp_noisy_image = add_salt_and_pepper_noise(image, amount=0.1)\n",
    "\n",
    "plt.figure(figsize=(10, 5))\n",
    "plt.subplot(1, 2, 1)\n",
    "plt.title(\"Original Image\")\n",
    "plt.imshow(image, cmap='gray')\n",
    "plt.axis('off')\n",
    "\n",
    "plt.subplot(1, 2, 2)\n",
    "plt.title(\"Image with Salt & Pepper Noise\")\n",
    "plt.imshow(sp_noisy_image, cmap='gray')\n",
    "plt.axis('off')\n",
    "plt.show()"
   ]
  },
  {
   "cell_type": "markdown",
   "metadata": {},
   "source": [
    "## Classical Denoising Methods"
   ]
  },
  {
   "cell_type": "markdown",
   "metadata": {},
   "source": [
    "Now that we know how to add noise, let's explore some classical methods for removing it."
   ]
  },
  {
   "cell_type": "markdown",
   "metadata": {},
   "source": [
    "### 1. Gaussian Filter\n",
    "\n",
    "A Gaussian filter is a linear filter that is widely used for blurring images and removing noise. It works by convolving the image with a Gaussian kernel. The standard deviation (`sigma`) of the Gaussian kernel is a parameter that controls the amount of blurring. A larger `sigma` will result in more blurring and more noise removal, but it can also lead to a loss of image details."
   ]
  },
  {
   "cell_type": "code",
   "execution_count": null,
   "metadata": {},
   "outputs": [],
   "source": [
    "from skimage.filters import gaussian\n",
    "\n",
    "denoised_gaussian = gaussian(gaussian_noisy_image, sigma=1)\n",
    "\n",
    "plt.figure(figsize=(15, 5))\n",
    "plt.subplot(1, 3, 1)\n",
    "plt.title(\"Original Image\")\n",
    "plt.imshow(image, cmap='gray')\n",
    "plt.axis('off')\n",
    "\n",
    "plt.subplot(1, 3, 2)\n",
    "plt.title(\"Noisy Image\")\n",
    "plt.imshow(gaussian_noisy_image, cmap='gray')\n",
    "plt.axis('off')\n",
    "\n",
    "plt.subplot(1, 3, 3)\n",
    "plt.title(\"Denoised with Gaussian Filter\")\n",
    "plt.imshow(denoised_gaussian, cmap='gray')\n",
    "plt.axis('off')\n",
    "plt.show()"
   ]
  },
  {
   "cell_type": "markdown",
   "metadata": {},
   "source": [
    "### 2. Median Filter\n",
    "\n",
    "The median filter is a non-linear digital filtering technique, often used to remove noise from an image or signal. It is particularly effective at removing salt-and-pepper noise. The median filter works by replacing each pixel's value with the median value of its neighbors."
   ]
  },
  {
   "cell_type": "code",
   "execution_count": null,
   "metadata": {},
   "outputs": [],
   "source": [
    "from skimage.filters import median\n",
    "from skimage.morphology import disk\n",
    "\n",
    "denoised_median = median(sp_noisy_image, disk(3))\n",
    "\n",
    "plt.figure(figsize=(15, 5))\n",
    "plt.subplot(1, 3, 1)\n",
    "plt.title(\"Original Image\")\n",
    "plt.imshow(image, cmap='gray')\n",
    "plt.axis('off')\n",
    "\n",
    "plt.subplot(1, 3, 2)\n",
    "plt.title(\"Noisy Image (S&P)\")\n",
    "plt.imshow(sp_noisy_image, cmap='gray')\n",
    "plt.axis('off')\n",
    "\n",
    "plt.subplot(1, 3, 3)\n",
    "plt.title(\"Denoised with Median Filter\")\n",
    "plt.imshow(denoised_median, cmap='gray')\n",
    "plt.axis('off')\n",
    "plt.show()"
   ]
  },
  {
   "cell_type": "markdown",
   "metadata": {},
   "source": [
    "### 3. BM3D (Block-matching and 3D filtering)\n",
    "\n",
    "BM3D is a more advanced denoising method that is considered state-of-the-art for classical denoising. It works by finding similar patches in the image, stacking them into a 3D group, filtering the group, and then returning the filtered patches to their original locations. It is particularly effective for Gaussian noise.\n",
    "\n",
    "*Note: You might need to install the `bm3d` package. You can do this by running `pip install bm3d` in your terminal.*"
   ]
  },
  {
   "cell_type": "code",
   "execution_count": null,
   "metadata": {},
   "outputs": [],
   "source": [
    "try:\n",
    "    import bm3d\n",
    "    denoised_bm3d = bm3d.bm3d(gaussian_noisy_image, sigma_psd=0.1, stage_arg=bm3d.BM3DStages.ALL_STAGES)\n",
    "\n",
    "    plt.figure(figsize=(15, 5))\n",
    "    plt.subplot(1, 3, 1)\n",
    "    plt.title(\"Original Image\")\n",
    "    plt.imshow(image, cmap='gray')\n",
    "    plt.axis('off')\n",
    "    \n",
    "    plt.subplot(1, 3, 2)\n",
    "    plt.title(\"Noisy Image\")\n",
    "    plt.imshow(gaussian_noisy_image, cmap='gray')\n",
    "    plt.axis('off')\n",
    "    \n",
    "    plt.subplot(1, 3, 3)\n",
    "    plt.title(\"Denoised with BM3D\")\n",
    "    plt.imshow(denoised_bm3d, cmap='gray')\n",
    "    plt.axis('off')\n",
    "    plt.show()\n",
    "except ImportError:\n",
    "    print(\"BM3D is not installed. Please run 'pip install bm3d' to use this feature.\")"
   ]
  },
  {
   "cell_type": "markdown",
   "metadata": {},
   "source": [
    "## Denoising with Noise2Void"
   ]
  },
  {
   "cell_type": "markdown",
   "metadata": {},
   "source": [
    "Now, we will explore a powerful deep learning-based method for image denoising called **Noise2Void**. Unlike traditional methods, Noise2Void learns to denoise images directly from noisy images, without needing clean, noise-free training data."
   ]
  },
  {
   "cell_type": "markdown",
   "metadata": {},
   "source": [
    "### How Noise2Void Works (A Brief Explanation)\n",
    "\n",
    "The core idea behind Noise2Void is to train a neural network to predict a pixel's value from its neighborhood, but *without* seeing the center pixel itself. This is achieved by creating a \"blind spot\" in the receptive field of the network. This forces the network to learn the underlying structure of the image and distinguish it from the random noise. Since the noise is random, the network cannot predict it from the neighboring pixels, and thus learns to ignore it."
   ]
  },
  {
   "cell_type": "markdown",
   "metadata": {},
   "source": [
    "### Using the Noise2Void Code\n",
    "\n",
    "Now, let's use the `noise2void` code in this repository to denoise an image. We will need to:\n",
    "\n",
    "1.  **Prepare the data:** We'll create masked images for training.\n",
    "2.  **Create a Noise2Void model:** We'll use the `ResNet` model from `model.py`.\n",
    "3.  **Train the model:** We'll train the model on our noisy data.\n",
    "4.  **Predict (Denoise):** We'll use the trained model to denoise a new noisy image."
   ]
  },
  {
   "cell_type": "code",
   "execution_count": null,
   "metadata": {},
   "outputs": [],
   "source": [
    "import torch\n",
    "import torch.nn as nn\n",
    "from torch.optim import Adam\n",
    "from noise2void.model import ResNet\n",
    "from noise2void.dataset import ToTensor, Normalize, Denormalize\n",
    "import copy\n",
    "\n",
    "# Let's use the Gaussian noisy image we created earlier\n",
    "noisy_image = gaussian_noisy_image.copy()\n",
    "\n",
    "# The Noise2Void dataset implementation uses a function to generate a mask.\n",
    "# We will replicate that functionality here.\n",
    "def generate_mask(input, ratio=0.9, size_window=(5, 5)):\n",
    "    size_data = input.shape\n",
    "    num_sample = int(size_data[0] * size_data[1] * (1 - ratio))\n",
    "\n",
    "    mask = np.ones(size_data)\n",
    "    output = input.copy()\n",
    "\n",
    "    for ich in range(size_data[2]):\n",
    "        idy_msk = np.random.randint(0, size_data[0], num_sample)\n",
    "        idx_msk = np.random.randint(0, size_data[1], num_sample)\n",
    "\n",
    "        idy_neigh = np.random.randint(-size_window[0] // 2 + size_window[0] % 2, size_window[0] // 2 + size_window[0] % 2, num_sample)\n",
    "        idx_neigh = np.random.randint(-size_window[1] // 2 + size_window[1] % 2, size_window[1] // 2 + size_window[1] % 2, num_sample)\n",
    "\n",
    "        idy_msk_neigh = idy_msk + idy_neigh\n",
    "        idx_msk_neigh = idx_msk + idx_neigh\n",
    "\n",
    "        idy_msk_neigh = idy_msk_neigh + (idy_msk_neigh < 0) * size_data[0] - (idy_msk_neigh >= size_data[0]) * size_data[0]\n",
    "        idx_msk_neigh = idx_msk_neigh + (idx_msk_neigh < 0) * size_data[1] - (idx_msk_neigh >= size_data[1]) * size_data[1]\n",
    "\n",
    "        id_msk = (idy_msk, idx_msk, ich)\n",
    "        id_msk_neigh = (idy_msk_neigh, idx_msk_neigh, ich)\n",
    "\n",
    "        output[id_msk] = input[id_msk_neigh]\n",
    "        mask[id_msk] = 0.0\n",
    "\n",
    "    return output, mask\n",
    "\n",
    "# Prepare the data\n",
    "if noisy_image.ndim == 2:\n",
    "    noisy_image = np.expand_dims(noisy_image, axis=2)\n",
    "\n",
    "input_image, mask = generate_mask(noisy_image)\n",
    "\n",
    "# The model expects the data in a dictionary\n",
    "data = {'input': input_image, 'label': noisy_image, 'mask': mask}\n",
    "\n",
    "# We will use the ToTensor transform to convert the numpy arrays to tensors\n",
    "to_tensor = ToTensor()\n",
    "tensor_data = to_tensor(data)\n",
    "\n",
    "# The input, label, and mask are now tensors\n",
    "input_tensor = tensor_data['input'].unsqueeze(0) # Add a batch dimension\n",
    "label_tensor = tensor_data['label'].unsqueeze(0) # Add a batch dimension\n",
    "mask_tensor = tensor_data['mask'].unsqueeze(0)   # Add a batch dimension\n",
    "\n",
    "# Display the masked image\n",
    "plt.figure(figsize=(10, 5))\n",
    "plt.subplot(1, 2, 1)\n",
    "plt.title(\"Original Noisy Image\")\n",
    "plt.imshow(noisy_image.squeeze(), cmap='gray')\n",
    "plt.axis('off')\n",
    "\n",
    "plt.subplot(1, 2, 2)\n",
    "plt.title(\"Masked Input for N2V\")\n",
    "plt.imshow(input_image.squeeze(), cmap='gray')\n",
    "plt.axis('off')\n",
    "plt.show()"
   ]
  },
  {
   "cell_type": "markdown",
   "metadata": {},
   "source": [
    "### Training the Noise2Void Model"
   ]
  },
  {
   "cell_type": "code",
   "execution_count": null,
   "metadata": {},
   "outputs": [],
   "source": [
    "# Set up the model, loss, and optimizer\n",
    "device = torch.device(\"cuda:0\" if torch.cuda.is_available() else \"cpu\")\n",
    "\n",
    "# The model is a ResNet, as used in the original repository\n",
    "netG = ResNet(nch_in=1, nch_out=1, nch_ker=64, norm='bnorm').to(device)\n",
    "\n",
    "# The loss function is L1 Loss\n",
    "loss_fn = nn.L1Loss().to(device)\n",
    "\n",
    "# The optimizer is Adam\n",
    "optimizer = Adam(netG.parameters(), lr=1e-3)\n",
    "\n",
    "# Move tensors to the selected device\n",
    "input_tensor = input_tensor.to(device)\n",
    "label_tensor = label_tensor.to(device)\n",
    "mask_tensor = mask_tensor.to(device)\n",
    "\n",
    "# Training loop\n",
    "num_epochs = 100\n",
    "for epoch in range(num_epochs):\n",
    "    netG.train()\n",
    "\n",
    "    # Forward pass\n",
    "    output_tensor = netG(input_tensor)\n",
    "\n",
    "    # Calculate the loss only on the masked pixels\n",
    "    loss = loss_fn(output_tensor * (1 - mask_tensor), label_tensor * (1 - mask_tensor))\n",
    "\n",
    "    # Backward pass and optimization\n",
    "    optimizer.zero_grad()\n",
    "    loss.backward()\n",
    "    optimizer.step()\n",
    "\n",
    "    if (epoch + 1) % 10 == 0:\n",
    "        print(f'Epoch [{epoch+1}/{num_epochs}], Loss: {loss.item():.4f}')\n",
    "\n",
    "print(\"Training finished!\")"
   ]
  },
  {
   "cell_type": "markdown",
   "metadata": {},
   "source": [
    "### Denoising with the Trained Model"
   ]
  },
  {
   "cell_type": "code",
   "execution_count": null,
   "metadata": {},
   "outputs": [],
   "source": [
    "# Denoise the image\n",
    "netG.eval()\n",
    "with torch.no_grad():\n",
    "    # For denoising, we use the original noisy image as input\n",
    "    denoised_tensor = netG(label_tensor) # Use the unmasked noisy image\n",
    "\n",
    "# Move the denoised tensor to the CPU and convert to a numpy array\n",
    "denoised_image = denoised_tensor.squeeze().cpu().numpy()\n",
    "\n",
    "# Display the results\n",
    "plt.figure(figsize=(15, 5))\n",
    "plt.subplot(1, 3, 1)\n",
    "plt.title(\"Original Image\")\n",
    "plt.imshow(image.squeeze(), cmap='gray')\n",
    "plt.axis('off')\n",
    "\n",
    "plt.subplot(1, 3, 2)\n",
    "plt.title(\"Noisy Image\")\n",
    "plt.imshow(noisy_image.squeeze(), cmap='gray')\n",
    "plt.axis('off')\n",
    "\n",
    "plt.subplot(1, 3, 3)\n",
    "plt.title(\"Denoised with Noise2Void\")\n",
    "plt.imshow(denoised_image, cmap='gray')\n",
    "plt.axis('off')\n",
    "plt.show()"
   ]
  }
 ],
 "metadata": {
  "kernelspec": {
   "display_name": "Python 3",
   "language": "python",
   "name": "python3"
  },
  "language_info": {
   "codemirror_mode": {
    "name": "ipython",
    "version": 3
   },
   "file_extension": ".py",
   "mimetype": "text/x-python",
   "name": "python",
   "nbconvert_exporter": "python",
   "pygments_lexer": "ipython3",
   "version": "3.9.7"
  }
 },
 "nbformat": 4,
 "nbformat_minor": 4
}